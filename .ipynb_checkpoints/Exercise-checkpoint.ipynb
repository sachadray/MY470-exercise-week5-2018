{
 "cells": [
  {
   "cell_type": "markdown",
   "metadata": {},
   "source": [
    "# Week 5 exercise on collaboration using GitHub"
   ]
  },
  {
   "cell_type": "code",
   "execution_count": 1,
   "metadata": {},
   "outputs": [
    {
     "name": "stdout",
     "output_type": "stream",
     "text": [
      "Product: The Lord of the Rings \n",
      "Customer: Sacha\n",
      "Purchase: Book\n",
      "ID number: 1\n",
      "\n"
     ]
    }
   ],
   "source": [
    "# Exercise 1: Work with the person next to you to design \n",
    "# classes to manage the products, customers, and purchase \n",
    "# orders for an online book store such as amazon.com. \n",
    "# Outline the data attributes and useful methods for \n",
    "# each class. You can discuss and create the outline together. \n",
    "\n",
    "from datetime import date\n",
    "\n",
    "class Order(object):\n",
    "    \n",
    "    next_id_num = 1 # unique identifiication number\n",
    "    \n",
    "    def __init__(self, product, customer, purchase):\n",
    "        '''Defines the elements of the order using the product name, customer info, purchase type and unique ID\n",
    "        next_id_num must be a string'''\n",
    "        self.product  = product\n",
    "        self.customer = customer\n",
    "        self.purchase = purchase\n",
    "        self.id_num = Order.next_id_num\n",
    "        Order.next_id_num += 1\n",
    "        pass\n",
    "    \n",
    "    def get_customer(self):\n",
    "        \"\"\"Returns the self'\\s customer information\"\"\"\n",
    "        pass\n",
    "    \n",
    "    def get_product(self):\n",
    "        \"\"\"Returns the self'\\s product information\"\"\"\n",
    "        pass\n",
    "    \n",
    "    def get_ID(self):\n",
    "        \"\"\"Returns the self'\\s ID information\"\"\"\n",
    "        return self.id_num\n",
    "        pass\n",
    "    \n",
    "    def set_time(self):\n",
    "        \"\"\"Returns self'\\s date and time\"\"\"\n",
    "        return date.today()\n",
    "        pass\n",
    "\n",
    "    def __str__(self):\n",
    "        '''Returns self's full information'''\n",
    "        return 'Product: ' + self.product  + '\\n' + 'Customer: ' + self.customer + '\\n'  + 'Purchase: ' + self.purchase + '\\n'   + 'ID number: ' + str(self.id_num) + '\\n'            \n",
    "        pass\n",
    "    \n",
    "\n",
    "o1 = Order('The Lord of the Rings ', 'Sacha', 'Book')\n",
    "print(o1)\n"
   ]
  },
  {
   "cell_type": "code",
   "execution_count": 2,
   "metadata": {},
   "outputs": [],
   "source": [
    "# Exercise 2: Create a new repository in your account and upload \n",
    "# the class hierarchy you created. Practice cloning locally, \n",
    "# making changes, and uploading the changed file to your remote \n",
    "# repository by creating a branch and opening a pull request. \n",
    "# (Note that in order for others to be able to upload files \n",
    "# to your repository, you need to grant them push access.)\n",
    "\n",
    "\n"
   ]
  },
  {
   "cell_type": "code",
   "execution_count": null,
   "metadata": {},
   "outputs": [],
   "source": [
    "# Exercise 3: Open a new issue in your partner's repository. \n",
    "# (Note that you don't need push access to open issues.)\n",
    "\n"
   ]
  }
 ],
 "metadata": {
  "kernelspec": {
   "display_name": "Python 3",
   "language": "python",
   "name": "python3"
  },
  "language_info": {
   "codemirror_mode": {
    "name": "ipython",
    "version": 3
   },
   "file_extension": ".py",
   "mimetype": "text/x-python",
   "name": "python",
   "nbconvert_exporter": "python",
   "pygments_lexer": "ipython3",
   "version": "3.6.5"
  }
 },
 "nbformat": 4,
 "nbformat_minor": 2
}
